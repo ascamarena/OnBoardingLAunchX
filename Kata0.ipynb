{
  "nbformat": 4,
  "nbformat_minor": 0,
  "metadata": {
    "colab": {
      "name": "Kata0.ipynb",
      "provenance": [],
      "collapsed_sections": []
    },
    "kernelspec": {
      "name": "python3",
      "display_name": "Python 3"
    },
    "language_info": {
      "name": "python"
    },
    "widgets": {
      "application/vnd.jupyter.widget-state+json": {
        "acd8a966fd1c4347872ed11f492152f0": {
          "model_module": "@jupyter-widgets/controls",
          "model_name": "ToggleButtonModel",
          "model_module_version": "1.5.0",
          "state": {
            "_dom_classes": [],
            "_model_module": "@jupyter-widgets/controls",
            "_model_module_version": "1.5.0",
            "_model_name": "ToggleButtonModel",
            "_view_count": null,
            "_view_module": "@jupyter-widgets/controls",
            "_view_module_version": "1.5.0",
            "_view_name": "ToggleButtonView",
            "button_style": "success",
            "description": "Iniciar Launch",
            "description_tooltip": null,
            "disabled": false,
            "icon": "rocket",
            "layout": "IPY_MODEL_ddc308b40b91402ab423ae4a472dbe7d",
            "style": "IPY_MODEL_b450d501327c478499a05f59c0d52f61",
            "tooltip": "Engage your Launch",
            "value": true
          }
        },
        "ddc308b40b91402ab423ae4a472dbe7d": {
          "model_module": "@jupyter-widgets/base",
          "model_name": "LayoutModel",
          "model_module_version": "1.2.0",
          "state": {
            "_model_module": "@jupyter-widgets/base",
            "_model_module_version": "1.2.0",
            "_model_name": "LayoutModel",
            "_view_count": null,
            "_view_module": "@jupyter-widgets/base",
            "_view_module_version": "1.2.0",
            "_view_name": "LayoutView",
            "align_content": null,
            "align_items": null,
            "align_self": null,
            "border": null,
            "bottom": null,
            "display": null,
            "flex": null,
            "flex_flow": null,
            "grid_area": null,
            "grid_auto_columns": null,
            "grid_auto_flow": null,
            "grid_auto_rows": null,
            "grid_column": null,
            "grid_gap": null,
            "grid_row": null,
            "grid_template_areas": null,
            "grid_template_columns": null,
            "grid_template_rows": null,
            "height": null,
            "justify_content": null,
            "justify_items": null,
            "left": null,
            "margin": null,
            "max_height": null,
            "max_width": null,
            "min_height": null,
            "min_width": null,
            "object_fit": null,
            "object_position": null,
            "order": null,
            "overflow": null,
            "overflow_x": null,
            "overflow_y": null,
            "padding": null,
            "right": null,
            "top": null,
            "visibility": null,
            "width": null
          }
        },
        "b450d501327c478499a05f59c0d52f61": {
          "model_module": "@jupyter-widgets/controls",
          "model_name": "DescriptionStyleModel",
          "model_module_version": "1.5.0",
          "state": {
            "_model_module": "@jupyter-widgets/controls",
            "_model_module_version": "1.5.0",
            "_model_name": "DescriptionStyleModel",
            "_view_count": null,
            "_view_module": "@jupyter-widgets/base",
            "_view_module_version": "1.2.0",
            "_view_name": "StyleView",
            "description_width": ""
          }
        },
        "9b1b64d2bd7448f48d6dbb025da7954c": {
          "model_module": "@jupyter-widgets/output",
          "model_name": "OutputModel",
          "model_module_version": "1.0.0",
          "state": {
            "_dom_classes": [],
            "_model_module": "@jupyter-widgets/output",
            "_model_module_version": "1.0.0",
            "_model_name": "OutputModel",
            "_view_count": null,
            "_view_module": "@jupyter-widgets/output",
            "_view_module_version": "1.0.0",
            "_view_name": "OutputView",
            "layout": "IPY_MODEL_b0c96dd9d80a48d18a147f48e99f9e04",
            "msg_id": "",
            "outputs": [
              {
                "output_type": "stream",
                "name": "stdout",
                "text": [
                  "Nave Iniciada!\n"
                ]
              }
            ]
          }
        },
        "b0c96dd9d80a48d18a147f48e99f9e04": {
          "model_module": "@jupyter-widgets/base",
          "model_name": "LayoutModel",
          "model_module_version": "1.2.0",
          "state": {
            "_model_module": "@jupyter-widgets/base",
            "_model_module_version": "1.2.0",
            "_model_name": "LayoutModel",
            "_view_count": null,
            "_view_module": "@jupyter-widgets/base",
            "_view_module_version": "1.2.0",
            "_view_name": "LayoutView",
            "align_content": null,
            "align_items": null,
            "align_self": null,
            "border": null,
            "bottom": null,
            "display": null,
            "flex": null,
            "flex_flow": null,
            "grid_area": null,
            "grid_auto_columns": null,
            "grid_auto_flow": null,
            "grid_auto_rows": null,
            "grid_column": null,
            "grid_gap": null,
            "grid_row": null,
            "grid_template_areas": null,
            "grid_template_columns": null,
            "grid_template_rows": null,
            "height": null,
            "justify_content": null,
            "justify_items": null,
            "left": null,
            "margin": null,
            "max_height": null,
            "max_width": null,
            "min_height": null,
            "min_width": null,
            "object_fit": null,
            "object_position": null,
            "order": null,
            "overflow": null,
            "overflow_x": null,
            "overflow_y": null,
            "padding": null,
            "right": null,
            "top": null,
            "visibility": null,
            "width": null
          }
        }
      }
    }
  },
  "cells": [
    {
      "cell_type": "markdown",
      "source": [
        "# Kata 0\n",
        "\n",
        "Esta kata se utilizó para conocer el ambiente de trabajo.\n",
        "Al estar utilizando <a href=\"https://colab.research.google.com/\">Colab</a> nos ahorramos instalaciones en nuestro equipo.\n",
        "\n",
        "Además miren que bonitos perritos:\n",
        "![Screenshot from 2022-05-17 20-49-33.png](data:image/png;base64,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)"
      ],
      "metadata": {
        "id": "V8XR9U_x1SQk"
      }
    },
    {
      "cell_type": "markdown",
      "source": [
        "## Ejercicio 1: Crea y ejecuta tu Notebook\n",
        "\n",
        "Ahora puedes agregar algo de código al notebook. Agreguemos una forma de mostrar un widget para iniciar el notebook.\n",
        "\n",
        "Primero, debes instalar una biblioteca llamada ipywidgets. Instala la biblioteca agregando un nuevo bloque de código debajo del bloque de título del notebook. Utilizando el administrador de paquetes de Python pip, para instalar la biblioteca.\n"
      ],
      "metadata": {
        "id": "2R1E_erN3VfE"
      }
    },
    {
      "cell_type": "code",
      "execution_count": null,
      "metadata": {
        "colab": {
          "base_uri": "https://localhost:8080/"
        },
        "id": "fkrXkpUk1L-Q",
        "outputId": "197ed3c7-f208-4801-f600-3ad981ed4fd2"
      },
      "outputs": [
        {
          "output_type": "stream",
          "name": "stdout",
          "text": [
            "Requirement already satisfied: ipywidgets in /usr/local/lib/python3.7/dist-packages (7.7.0)\n",
            "Requirement already satisfied: ipython-genutils~=0.2.0 in /usr/local/lib/python3.7/dist-packages (from ipywidgets) (0.2.0)\n",
            "Requirement already satisfied: ipykernel>=4.5.1 in /usr/local/lib/python3.7/dist-packages (from ipywidgets) (4.10.1)\n",
            "Requirement already satisfied: nbformat>=4.2.0 in /usr/local/lib/python3.7/dist-packages (from ipywidgets) (5.4.0)\n",
            "Requirement already satisfied: ipython>=4.0.0 in /usr/local/lib/python3.7/dist-packages (from ipywidgets) (5.5.0)\n",
            "Requirement already satisfied: widgetsnbextension~=3.6.0 in /usr/local/lib/python3.7/dist-packages (from ipywidgets) (3.6.0)\n",
            "Requirement already satisfied: traitlets>=4.3.1 in /usr/local/lib/python3.7/dist-packages (from ipywidgets) (5.2.0)\n",
            "Requirement already satisfied: jupyterlab-widgets>=1.0.0 in /usr/local/lib/python3.7/dist-packages (from ipywidgets) (1.1.0)\n",
            "Requirement already satisfied: tornado>=4.0 in /usr/local/lib/python3.7/dist-packages (from ipykernel>=4.5.1->ipywidgets) (5.1.1)\n",
            "Requirement already satisfied: jupyter-client in /usr/local/lib/python3.7/dist-packages (from ipykernel>=4.5.1->ipywidgets) (5.3.5)\n",
            "Requirement already satisfied: prompt-toolkit<2.0.0,>=1.0.4 in /usr/local/lib/python3.7/dist-packages (from ipython>=4.0.0->ipywidgets) (1.0.18)\n",
            "Requirement already satisfied: pexpect in /usr/local/lib/python3.7/dist-packages (from ipython>=4.0.0->ipywidgets) (4.8.0)\n",
            "Requirement already satisfied: pygments in /usr/local/lib/python3.7/dist-packages (from ipython>=4.0.0->ipywidgets) (2.6.1)\n",
            "Requirement already satisfied: pickleshare in /usr/local/lib/python3.7/dist-packages (from ipython>=4.0.0->ipywidgets) (0.7.5)\n",
            "Requirement already satisfied: decorator in /usr/local/lib/python3.7/dist-packages (from ipython>=4.0.0->ipywidgets) (4.4.2)\n",
            "Requirement already satisfied: simplegeneric>0.8 in /usr/local/lib/python3.7/dist-packages (from ipython>=4.0.0->ipywidgets) (0.8.1)\n",
            "Requirement already satisfied: setuptools>=18.5 in /usr/local/lib/python3.7/dist-packages (from ipython>=4.0.0->ipywidgets) (57.4.0)\n",
            "Requirement already satisfied: jupyter-core in /usr/local/lib/python3.7/dist-packages (from nbformat>=4.2.0->ipywidgets) (4.10.0)\n",
            "Requirement already satisfied: fastjsonschema in /usr/local/lib/python3.7/dist-packages (from nbformat>=4.2.0->ipywidgets) (2.15.3)\n",
            "Requirement already satisfied: jsonschema>=2.6 in /usr/local/lib/python3.7/dist-packages (from nbformat>=4.2.0->ipywidgets) (4.3.3)\n",
            "Requirement already satisfied: attrs>=17.4.0 in /usr/local/lib/python3.7/dist-packages (from jsonschema>=2.6->nbformat>=4.2.0->ipywidgets) (21.4.0)\n",
            "Requirement already satisfied: importlib-metadata in /usr/local/lib/python3.7/dist-packages (from jsonschema>=2.6->nbformat>=4.2.0->ipywidgets) (4.11.3)\n",
            "Requirement already satisfied: importlib-resources>=1.4.0 in /usr/local/lib/python3.7/dist-packages (from jsonschema>=2.6->nbformat>=4.2.0->ipywidgets) (5.7.1)\n",
            "Requirement already satisfied: pyrsistent!=0.17.0,!=0.17.1,!=0.17.2,>=0.14.0 in /usr/local/lib/python3.7/dist-packages (from jsonschema>=2.6->nbformat>=4.2.0->ipywidgets) (0.18.1)\n",
            "Requirement already satisfied: typing-extensions in /usr/local/lib/python3.7/dist-packages (from jsonschema>=2.6->nbformat>=4.2.0->ipywidgets) (4.2.0)\n",
            "Requirement already satisfied: zipp>=3.1.0 in /usr/local/lib/python3.7/dist-packages (from importlib-resources>=1.4.0->jsonschema>=2.6->nbformat>=4.2.0->ipywidgets) (3.8.0)\n",
            "Requirement already satisfied: six>=1.9.0 in /usr/local/lib/python3.7/dist-packages (from prompt-toolkit<2.0.0,>=1.0.4->ipython>=4.0.0->ipywidgets) (1.15.0)\n",
            "Requirement already satisfied: wcwidth in /usr/local/lib/python3.7/dist-packages (from prompt-toolkit<2.0.0,>=1.0.4->ipython>=4.0.0->ipywidgets) (0.2.5)\n",
            "Requirement already satisfied: notebook>=4.4.1 in /usr/local/lib/python3.7/dist-packages (from widgetsnbextension~=3.6.0->ipywidgets) (5.3.1)\n",
            "Requirement already satisfied: terminado>=0.8.1 in /usr/local/lib/python3.7/dist-packages (from notebook>=4.4.1->widgetsnbextension~=3.6.0->ipywidgets) (0.13.3)\n",
            "Requirement already satisfied: nbconvert in /usr/local/lib/python3.7/dist-packages (from notebook>=4.4.1->widgetsnbextension~=3.6.0->ipywidgets) (5.6.1)\n",
            "Requirement already satisfied: jinja2 in /usr/local/lib/python3.7/dist-packages (from notebook>=4.4.1->widgetsnbextension~=3.6.0->ipywidgets) (2.11.3)\n",
            "Requirement already satisfied: Send2Trash in /usr/local/lib/python3.7/dist-packages (from notebook>=4.4.1->widgetsnbextension~=3.6.0->ipywidgets) (1.8.0)\n",
            "Requirement already satisfied: python-dateutil>=2.1 in /usr/local/lib/python3.7/dist-packages (from jupyter-client->ipykernel>=4.5.1->ipywidgets) (2.8.2)\n",
            "Requirement already satisfied: pyzmq>=13 in /usr/local/lib/python3.7/dist-packages (from jupyter-client->ipykernel>=4.5.1->ipywidgets) (22.3.0)\n",
            "Requirement already satisfied: ptyprocess in /usr/local/lib/python3.7/dist-packages (from terminado>=0.8.1->notebook>=4.4.1->widgetsnbextension~=3.6.0->ipywidgets) (0.7.0)\n",
            "Requirement already satisfied: MarkupSafe>=0.23 in /usr/local/lib/python3.7/dist-packages (from jinja2->notebook>=4.4.1->widgetsnbextension~=3.6.0->ipywidgets) (2.0.1)\n",
            "Requirement already satisfied: pandocfilters>=1.4.1 in /usr/local/lib/python3.7/dist-packages (from nbconvert->notebook>=4.4.1->widgetsnbextension~=3.6.0->ipywidgets) (1.5.0)\n",
            "Requirement already satisfied: entrypoints>=0.2.2 in /usr/local/lib/python3.7/dist-packages (from nbconvert->notebook>=4.4.1->widgetsnbextension~=3.6.0->ipywidgets) (0.4)\n",
            "Requirement already satisfied: mistune<2,>=0.8.1 in /usr/local/lib/python3.7/dist-packages (from nbconvert->notebook>=4.4.1->widgetsnbextension~=3.6.0->ipywidgets) (0.8.4)\n",
            "Requirement already satisfied: bleach in /usr/local/lib/python3.7/dist-packages (from nbconvert->notebook>=4.4.1->widgetsnbextension~=3.6.0->ipywidgets) (5.0.0)\n",
            "Requirement already satisfied: testpath in /usr/local/lib/python3.7/dist-packages (from nbconvert->notebook>=4.4.1->widgetsnbextension~=3.6.0->ipywidgets) (0.6.0)\n",
            "Requirement already satisfied: defusedxml in /usr/local/lib/python3.7/dist-packages (from nbconvert->notebook>=4.4.1->widgetsnbextension~=3.6.0->ipywidgets) (0.7.1)\n",
            "Requirement already satisfied: webencodings in /usr/local/lib/python3.7/dist-packages (from bleach->nbconvert->notebook>=4.4.1->widgetsnbextension~=3.6.0->ipywidgets) (0.5.1)\n"
          ]
        }
      ],
      "source": [
        "!pip install ipywidgets"
      ]
    },
    {
      "cell_type": "markdown",
      "source": [
        "A continuación, crearemos un botón en el notebook que, cuando se presiona, muestra un mensaje.\n",
        "\n",
        "En un nuevo bloque de código, agrega el código siguiente:"
      ],
      "metadata": {
        "id": "BfrlklnG3n2l"
      }
    },
    {
      "cell_type": "code",
      "source": [
        "import ipywidgets as widgets\n",
        "\n",
        "ignition = widgets.ToggleButton(\n",
        "    value=False,\n",
        "    description='Iniciar Launch',\n",
        "    button_style='success',\n",
        "    tooltip='Engage your Launch',\n",
        "    icon='rocket'\n",
        ")\n",
        "\n",
        "output = widgets.Output()\n",
        "\n",
        "display(ignition, output)\n",
        "\n",
        "def on_value_change(change):\n",
        "    with output:\n",
        "        if change['new'] == True:\n",
        "            print(\"Nave Iniciada!\")\n",
        "        else:   \n",
        "            print(\"Nave Detenida\")\n",
        "\n",
        "ignition.observe(on_value_change, names='value')"
      ],
      "metadata": {
        "colab": {
          "base_uri": "https://localhost:8080/",
          "height": 66,
          "referenced_widgets": [
            "acd8a966fd1c4347872ed11f492152f0",
            "ddc308b40b91402ab423ae4a472dbe7d",
            "b450d501327c478499a05f59c0d52f61",
            "9b1b64d2bd7448f48d6dbb025da7954c",
            "b0c96dd9d80a48d18a147f48e99f9e04"
          ]
        },
        "id": "kkv7GWDT3ziy",
        "outputId": "d163e12b-d117-4b9c-9f99-a051279721e8"
      },
      "execution_count": null,
      "outputs": [
        {
          "output_type": "display_data",
          "data": {
            "text/plain": [
              "ToggleButton(value=False, button_style='success', description='Iniciar Launch', icon='rocket', tooltip='Engage…"
            ],
            "application/vnd.jupyter.widget-view+json": {
              "version_major": 2,
              "version_minor": 0,
              "model_id": "acd8a966fd1c4347872ed11f492152f0"
            }
          },
          "metadata": {}
        },
        {
          "output_type": "display_data",
          "data": {
            "text/plain": [
              "Output()"
            ],
            "application/vnd.jupyter.widget-view+json": {
              "version_major": 2,
              "version_minor": 0,
              "model_id": "9b1b64d2bd7448f48d6dbb025da7954c"
            }
          },
          "metadata": {}
        }
      ]
    },
    {
      "cell_type": "markdown",
      "source": [
        "## Ejercicio 2: Usar comandos avanzados\n",
        "\n",
        "Hemos creado un notebook básico con un poco de Markdown y un widget para arrancar la nave. Sin embargo, ¡Hay mucho más que puedes hacer con los notebooks!\n",
        "\n",
        "En el manual de su nave, le gustaría crear un gráfico de las estadísticas diarias de su nave. Puedes crear todo tipo de gráficos interesantes en un notebook, que también es útil para científicos de datos e ingenieros de aprendizaje automático (no solo astronautas).\n",
        "\n",
        "Crea un gráfico para mostrar los niveles de oxígeno de su nave utilizando Matplotlib y Numpy, unas bibliotecas populares para crear tablas y gráficos en Python.\n",
        "\n",
        "Para ello en una celda de código vamos a ejecutar el siguiente comando:"
      ],
      "metadata": {
        "id": "sWxJ_Iom4HXk"
      }
    },
    {
      "cell_type": "code",
      "source": [
        "    !pip install matplotlib"
      ],
      "metadata": {
        "colab": {
          "base_uri": "https://localhost:8080/"
        },
        "id": "FNGb5sPV31g4",
        "outputId": "35d6a73a-fb8d-4bf8-fc5b-3423728dab3a"
      },
      "execution_count": null,
      "outputs": [
        {
          "output_type": "stream",
          "name": "stdout",
          "text": [
            "Requirement already satisfied: matplotlib in /usr/local/lib/python3.7/dist-packages (3.2.2)\n",
            "Requirement already satisfied: python-dateutil>=2.1 in /usr/local/lib/python3.7/dist-packages (from matplotlib) (2.8.2)\n",
            "Requirement already satisfied: kiwisolver>=1.0.1 in /usr/local/lib/python3.7/dist-packages (from matplotlib) (1.4.2)\n",
            "Requirement already satisfied: pyparsing!=2.0.4,!=2.1.2,!=2.1.6,>=2.0.1 in /usr/local/lib/python3.7/dist-packages (from matplotlib) (3.0.9)\n",
            "Requirement already satisfied: numpy>=1.11 in /usr/local/lib/python3.7/dist-packages (from matplotlib) (1.21.6)\n",
            "Requirement already satisfied: cycler>=0.10 in /usr/local/lib/python3.7/dist-packages (from matplotlib) (0.11.0)\n",
            "Requirement already satisfied: typing-extensions in /usr/local/lib/python3.7/dist-packages (from kiwisolver>=1.0.1->matplotlib) (4.2.0)\n",
            "Requirement already satisfied: six>=1.5 in /usr/local/lib/python3.7/dist-packages (from python-dateutil>=2.1->matplotlib) (1.15.0)\n"
          ]
        }
      ]
    },
    {
      "cell_type": "code",
      "source": [
        "   !pip install numpy"
      ],
      "metadata": {
        "colab": {
          "base_uri": "https://localhost:8080/"
        },
        "id": "HLfT9zXI4W58",
        "outputId": "5c6fb337-4ec5-430b-bbd4-094c69cf3fdf"
      },
      "execution_count": null,
      "outputs": [
        {
          "output_type": "stream",
          "name": "stdout",
          "text": [
            "Requirement already satisfied: numpy in /usr/local/lib/python3.7/dist-packages (1.21.6)\n"
          ]
        }
      ]
    },
    {
      "cell_type": "markdown",
      "source": [
        "Enseguida, crea un bloque Markdown para anotar la descripción:"
      ],
      "metadata": {
        "id": "uSked22K4ekh"
      }
    },
    {
      "cell_type": "markdown",
      "source": [
        "### Niveles de Oxígeno\n",
        "\n",
        "Muestra diez minutos de niveles de oxígeno en tu nave.\n",
        "\n",
        "Creamos un nuevo bloque de código e importamos dos bibliotecas numpy y matplotlib, para crear un gráfico de barras.\n",
        "\n"
      ],
      "metadata": {
        "id": "4erxiXAg4jjX"
      }
    },
    {
      "cell_type": "code",
      "source": [
        "    import numpy as np\n",
        "    import matplotlib.pyplot as plt\n",
        "    data = np.random.default_rng(12345)\n",
        "    oxy_nums = data.integers(low=0, high=10, size=10)\n",
        "\n",
        "    plt.bar(range(len(oxy_nums)), oxy_nums)\n",
        "    plt.show()"
      ],
      "metadata": {
        "colab": {
          "base_uri": "https://localhost:8080/",
          "height": 265
        },
        "id": "DnuyDC5w4YVL",
        "outputId": "f0bb4943-8249-43da-8e17-640f1a83d8b3"
      },
      "execution_count": null,
      "outputs": [
        {
          "output_type": "display_data",
          "data": {
            "text/plain": [
              "<Figure size 432x288 with 1 Axes>"
            ],
            "image/png": "[encoded data removed]"
          },
          "metadata": {
            "needs_background": "light"
          }
        }
      ]
    },
    {
      "cell_type": "markdown",
      "source": [
        "A continuación, deseas mostrar el tiempo que su barco necesita tomar para llegar a una buena velocidad. Anota y crea una ecuación que te permitirá ingresar la velocidad de inicio de tu nave, la velocidad final deseada y la aceleración en metros por segundo.\n",
        "\n",
        "Creamos un bloque markdown para explicar la ecuación;\n",
        "\n",
        "Muestra los segundos necesarios para pasar de 0 a 11200 metros por segundo, dada la aceleración de la nave en metros por segundo:"
      ],
      "metadata": {
        "id": "gJm1vfX1B4z-"
      }
    },
    {
      "cell_type": "code",
      "source": [
        "endVelocity = 11200\n",
        "startVelocity = 0\n",
        "acceleration = 9.8\n",
        "\n",
        "time = (endVelocity - startVelocity) / acceleration\n",
        "print(\"Tiempo para alcanzar la velocidad deseada = \", time)"
      ],
      "metadata": {
        "id": "donrtUIW4_ES",
        "colab": {
          "base_uri": "https://localhost:8080/"
        },
        "outputId": "27f3bfb9-bbf9-48dd-a6c5-37a0424f78a0"
      },
      "execution_count": 6,
      "outputs": [
        {
          "output_type": "stream",
          "name": "stdout",
          "text": [
            "Tiempo para alcanzar la velocidad deseada =  1142.8571428571427\n"
          ]
        }
      ]
    },
    {
      "cell_type": "code",
      "source": [
        ""
      ],
      "metadata": {
        "id": "9CmFCDZrCDPp"
      },
      "execution_count": null,
      "outputs": []
    }
  ]
}
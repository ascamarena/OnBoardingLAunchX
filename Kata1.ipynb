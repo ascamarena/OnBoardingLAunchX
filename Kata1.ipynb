{
  "nbformat": 4,
  "nbformat_minor": 0,
  "metadata": {
    "colab": {
      "name": "Kata1.ipynb",
      "provenance": [],
      "collapsed_sections": []
    },
    "kernelspec": {
      "name": "python3",
      "display_name": "Python 3"
    },
    "language_info": {
      "name": "python"
    }
  },
  "cells": [
    {
      "cell_type": "markdown",
      "source": [
        "# Kata 1\n",
        "\n",
        "Oficial superior> \"¿Cadete?\"\n",
        "\n",
        "Usted > \"¿Sí, señora?\"\n",
        "\n",
        "Oficial superior> \"¿Puedes construir un programa que me muestre la fecha? La computadora del barco no venía con mucho en términos de programas de utilidad, por lo que necesitamos crear los que necesitamos. ¿Puedo confiar en ti con esto?\"\n",
        "\n",
        "Usted > \"Considéralo hecho\".\n",
        "\n",
        "Oficial superior> \"Excelente\"."
      ],
      "metadata": {
        "id": "cU-WkLo7CqlZ"
      }
    },
    {
      "cell_type": "markdown",
      "source": [
        "##  Tu primer programa\n",
        "Para crear este programa, deberás utilizar los conceptos que aprendiste en el último módulo. Usarás Jupyter Notebook en este ejercicio, que es una combinación de texto y código con la que puede interactuar. Finaliza el código siguiente para que el resultado muestre la fecha de hoy."
      ],
      "metadata": {
        "id": "BCCPFZ9nCu2A"
      }
    },
    {
      "cell_type": "code",
      "execution_count": null,
      "metadata": {
        "colab": {
          "base_uri": "https://localhost:8080/"
        },
        "id": "9zmtcswxCm-I",
        "outputId": "9586dc56-3707-4632-bcbd-ea7bee8e7424"
      },
      "outputs": [
        {
          "output_type": "stream",
          "name": "stdout",
          "text": [
            "Hoy es:\n",
            "2022-05-18\n"
          ]
        }
      ],
      "source": [
        "from datetime import date\n",
        "print(\"Hoy es:\")\n",
        "print(date.today())"
      ]
    },
    {
      "cell_type": "markdown",
      "source": [
        "## Construir un convertidor de unidades\n",
        "El oficial superior> \"Necesito una cosa más: un programa de conversión entre parsecs y años luz. Tener un programa de este tipo podría ser realmente útil en el puente para trazar nuestro curso\".\n",
        "\n",
        "Tú> \"¡Lo haré!\""
      ],
      "metadata": {
        "id": "6WUp6durD5K2"
      }
    },
    {
      "cell_type": "code",
      "source": [
        "parsec = 11\n",
        "\n",
        "lightyears = 3.25 * parsec\n",
        "\n",
        "print(str(parsec) + \" parsec, es \" + str(lightyears) + \" años luz\")"
      ],
      "metadata": {
        "colab": {
          "base_uri": "https://localhost:8080/"
        },
        "id": "xgqLXWcoDD0I",
        "outputId": "641b9c5d-85df-48d0-eab8-348095878085"
      },
      "execution_count": null,
      "outputs": [
        {
          "output_type": "stream",
          "name": "stdout",
          "text": [
            "11 parsec, es 35.75 años luz\n"
          ]
        }
      ]
    },
    {
      "cell_type": "code",
      "source": [
        ""
      ],
      "metadata": {
        "id": "4CtYgzO_EF9-"
      },
      "execution_count": null,
      "outputs": []
    }
  ]
}